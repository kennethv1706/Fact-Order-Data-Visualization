{
 "cells": [
  {
   "cell_type": "markdown",
   "metadata": {},
   "source": [
    "# Introduction"
   ]
  },
  {
   "cell_type": "markdown",
   "metadata": {},
   "source": [
    "Pembuatan Algoritma Prediksi Stok Inventori (inventory prediction)\n",
    "Kembangkan sebuah algoritma prediksi stok inventori yang dapat memberikan saran mengenai jumlah item yang perlu disiapkan di setiap negara."
   ]
  },
  {
   "cell_type": "code",
   "execution_count": 48,
   "metadata": {},
   "outputs": [],
   "source": [
    "#modul persiapan dan penampilan dataset\n",
    "import pandas as pd\n",
    "import numpy as np\n",
    "import seaborn as sns\n",
    "import matplotlib.pyplot as plt\n",
    "import pickle\n",
    "\n",
    "# modul dari data preprocessing\n",
    "from sklearn.model_selection import train_test_split\n",
    "from sklearn.preprocessing import MinMaxScaler\n",
    "from feature_engine.outliers import Winsorizer , OutlierTrimmer\n",
    "from sklearn.preprocessing import StandardScaler, OneHotEncoder\n",
    "\n",
    "#untuk model liner regresi\n",
    "from sklearn.linear_model import LinearRegression\n",
    "\n",
    "#untuk model evaluaasi\n",
    "from sklearn.metrics import mean_squared_error,r2_score,mean_absolute_percentage_error, mean_absolute_error"
   ]
  },
  {
   "cell_type": "markdown",
   "metadata": {},
   "source": [
    "# Data Loading"
   ]
  },
  {
   "cell_type": "code",
   "execution_count": 49,
   "metadata": {},
   "outputs": [
    {
     "data": {
      "text/html": [
       "<div>\n",
       "<style scoped>\n",
       "    .dataframe tbody tr th:only-of-type {\n",
       "        vertical-align: middle;\n",
       "    }\n",
       "\n",
       "    .dataframe tbody tr th {\n",
       "        vertical-align: top;\n",
       "    }\n",
       "\n",
       "    .dataframe thead th {\n",
       "        text-align: right;\n",
       "    }\n",
       "</style>\n",
       "<table border=\"1\" class=\"dataframe\">\n",
       "  <thead>\n",
       "    <tr style=\"text-align: right;\">\n",
       "      <th></th>\n",
       "      <th>InvoiceNo</th>\n",
       "      <th>StockCode</th>\n",
       "      <th>Description</th>\n",
       "      <th>Quantity</th>\n",
       "      <th>InvoiceDate</th>\n",
       "      <th>UnitPrice</th>\n",
       "      <th>CustomerID</th>\n",
       "      <th>Country</th>\n",
       "    </tr>\n",
       "  </thead>\n",
       "  <tbody>\n",
       "    <tr>\n",
       "      <th>0</th>\n",
       "      <td>536365</td>\n",
       "      <td>85123A</td>\n",
       "      <td>WHITE HANGING HEART T-LIGHT HOLDER</td>\n",
       "      <td>6</td>\n",
       "      <td>1/12/2010 8:26</td>\n",
       "      <td>2.55</td>\n",
       "      <td>17850.0</td>\n",
       "      <td>United Kingdom</td>\n",
       "    </tr>\n",
       "    <tr>\n",
       "      <th>1</th>\n",
       "      <td>536365</td>\n",
       "      <td>71053</td>\n",
       "      <td>WHITE METAL LANTERN</td>\n",
       "      <td>6</td>\n",
       "      <td>1/12/2010 8:26</td>\n",
       "      <td>3.39</td>\n",
       "      <td>17850.0</td>\n",
       "      <td>United Kingdom</td>\n",
       "    </tr>\n",
       "    <tr>\n",
       "      <th>2</th>\n",
       "      <td>536365</td>\n",
       "      <td>84406B</td>\n",
       "      <td>CREAM CUPID HEARTS COAT HANGER</td>\n",
       "      <td>8</td>\n",
       "      <td>1/12/2010 8:26</td>\n",
       "      <td>2.75</td>\n",
       "      <td>17850.0</td>\n",
       "      <td>United Kingdom</td>\n",
       "    </tr>\n",
       "    <tr>\n",
       "      <th>3</th>\n",
       "      <td>536365</td>\n",
       "      <td>84029G</td>\n",
       "      <td>KNITTED UNION FLAG HOT WATER BOTTLE</td>\n",
       "      <td>6</td>\n",
       "      <td>1/12/2010 8:26</td>\n",
       "      <td>3.39</td>\n",
       "      <td>17850.0</td>\n",
       "      <td>United Kingdom</td>\n",
       "    </tr>\n",
       "    <tr>\n",
       "      <th>4</th>\n",
       "      <td>536365</td>\n",
       "      <td>84029E</td>\n",
       "      <td>RED WOOLLY HOTTIE WHITE HEART.</td>\n",
       "      <td>6</td>\n",
       "      <td>1/12/2010 8:26</td>\n",
       "      <td>3.39</td>\n",
       "      <td>17850.0</td>\n",
       "      <td>United Kingdom</td>\n",
       "    </tr>\n",
       "    <tr>\n",
       "      <th>...</th>\n",
       "      <td>...</td>\n",
       "      <td>...</td>\n",
       "      <td>...</td>\n",
       "      <td>...</td>\n",
       "      <td>...</td>\n",
       "      <td>...</td>\n",
       "      <td>...</td>\n",
       "      <td>...</td>\n",
       "    </tr>\n",
       "    <tr>\n",
       "      <th>541904</th>\n",
       "      <td>581587</td>\n",
       "      <td>22613</td>\n",
       "      <td>PACK OF 20 SPACEBOY NAPKINS</td>\n",
       "      <td>12</td>\n",
       "      <td>9/12/2011 12:50</td>\n",
       "      <td>0.85</td>\n",
       "      <td>12680.0</td>\n",
       "      <td>France</td>\n",
       "    </tr>\n",
       "    <tr>\n",
       "      <th>541905</th>\n",
       "      <td>581587</td>\n",
       "      <td>22899</td>\n",
       "      <td>CHILDREN'S APRON DOLLY GIRL</td>\n",
       "      <td>6</td>\n",
       "      <td>9/12/2011 12:50</td>\n",
       "      <td>2.10</td>\n",
       "      <td>12680.0</td>\n",
       "      <td>France</td>\n",
       "    </tr>\n",
       "    <tr>\n",
       "      <th>541906</th>\n",
       "      <td>581587</td>\n",
       "      <td>23254</td>\n",
       "      <td>CHILDRENS CUTLERY DOLLY GIRL</td>\n",
       "      <td>4</td>\n",
       "      <td>9/12/2011 12:50</td>\n",
       "      <td>4.15</td>\n",
       "      <td>12680.0</td>\n",
       "      <td>France</td>\n",
       "    </tr>\n",
       "    <tr>\n",
       "      <th>541907</th>\n",
       "      <td>581587</td>\n",
       "      <td>23255</td>\n",
       "      <td>CHILDRENS CUTLERY CIRCUS PARADE</td>\n",
       "      <td>4</td>\n",
       "      <td>9/12/2011 12:50</td>\n",
       "      <td>4.15</td>\n",
       "      <td>12680.0</td>\n",
       "      <td>France</td>\n",
       "    </tr>\n",
       "    <tr>\n",
       "      <th>541908</th>\n",
       "      <td>581587</td>\n",
       "      <td>22138</td>\n",
       "      <td>BAKING SET 9 PIECE RETROSPOT</td>\n",
       "      <td>3</td>\n",
       "      <td>9/12/2011 12:50</td>\n",
       "      <td>4.95</td>\n",
       "      <td>12680.0</td>\n",
       "      <td>France</td>\n",
       "    </tr>\n",
       "  </tbody>\n",
       "</table>\n",
       "<p>541909 rows × 8 columns</p>\n",
       "</div>"
      ],
      "text/plain": [
       "       InvoiceNo StockCode                          Description  Quantity  \\\n",
       "0         536365    85123A   WHITE HANGING HEART T-LIGHT HOLDER         6   \n",
       "1         536365     71053                  WHITE METAL LANTERN         6   \n",
       "2         536365    84406B       CREAM CUPID HEARTS COAT HANGER         8   \n",
       "3         536365    84029G  KNITTED UNION FLAG HOT WATER BOTTLE         6   \n",
       "4         536365    84029E       RED WOOLLY HOTTIE WHITE HEART.         6   \n",
       "...          ...       ...                                  ...       ...   \n",
       "541904    581587     22613          PACK OF 20 SPACEBOY NAPKINS        12   \n",
       "541905    581587     22899          CHILDREN'S APRON DOLLY GIRL         6   \n",
       "541906    581587     23254         CHILDRENS CUTLERY DOLLY GIRL         4   \n",
       "541907    581587     23255      CHILDRENS CUTLERY CIRCUS PARADE         4   \n",
       "541908    581587     22138         BAKING SET 9 PIECE RETROSPOT         3   \n",
       "\n",
       "            InvoiceDate  UnitPrice  CustomerID         Country  \n",
       "0        1/12/2010 8:26       2.55     17850.0  United Kingdom  \n",
       "1        1/12/2010 8:26       3.39     17850.0  United Kingdom  \n",
       "2        1/12/2010 8:26       2.75     17850.0  United Kingdom  \n",
       "3        1/12/2010 8:26       3.39     17850.0  United Kingdom  \n",
       "4        1/12/2010 8:26       3.39     17850.0  United Kingdom  \n",
       "...                 ...        ...         ...             ...  \n",
       "541904  9/12/2011 12:50       0.85     12680.0          France  \n",
       "541905  9/12/2011 12:50       2.10     12680.0          France  \n",
       "541906  9/12/2011 12:50       4.15     12680.0          France  \n",
       "541907  9/12/2011 12:50       4.15     12680.0          France  \n",
       "541908  9/12/2011 12:50       4.95     12680.0          France  \n",
       "\n",
       "[541909 rows x 8 columns]"
      ]
     },
     "execution_count": 49,
     "metadata": {},
     "output_type": "execute_result"
    }
   ],
   "source": [
    "#data loading \n",
    "df = pd.read_csv('fact_orders.csv')\n",
    "df"
   ]
  },
  {
   "cell_type": "code",
   "execution_count": 50,
   "metadata": {},
   "outputs": [
    {
     "name": "stdout",
     "output_type": "stream",
     "text": [
      "<class 'pandas.core.frame.DataFrame'>\n",
      "RangeIndex: 541909 entries, 0 to 541908\n",
      "Data columns (total 8 columns):\n",
      " #   Column       Non-Null Count   Dtype  \n",
      "---  ------       --------------   -----  \n",
      " 0   InvoiceNo    541909 non-null  object \n",
      " 1   StockCode    541909 non-null  object \n",
      " 2   Description  540455 non-null  object \n",
      " 3   Quantity     541909 non-null  int64  \n",
      " 4   InvoiceDate  541909 non-null  object \n",
      " 5   UnitPrice    541909 non-null  float64\n",
      " 6   CustomerID   406829 non-null  float64\n",
      " 7   Country      541909 non-null  object \n",
      "dtypes: float64(2), int64(1), object(5)\n",
      "memory usage: 33.1+ MB\n"
     ]
    }
   ],
   "source": [
    "#melihat data yang ada di kolom dan tipenya\n",
    "df.info()"
   ]
  },
  {
   "cell_type": "code",
   "execution_count": 51,
   "metadata": {},
   "outputs": [
    {
     "data": {
      "text/plain": [
       "InvoiceNo           0\n",
       "StockCode           0\n",
       "Description      1454\n",
       "Quantity            0\n",
       "InvoiceDate         0\n",
       "UnitPrice           0\n",
       "CustomerID     135080\n",
       "Country             0\n",
       "dtype: int64"
      ]
     },
     "execution_count": 51,
     "metadata": {},
     "output_type": "execute_result"
    }
   ],
   "source": [
    "#mlihat apakah ada missing value\n",
    "df.isnull().sum()"
   ]
  },
  {
   "cell_type": "code",
   "execution_count": 52,
   "metadata": {},
   "outputs": [],
   "source": [
    "#memngisi mising value dengan menggunakan modus\n",
    "most_frequent_value = df['Description'].mode()[0]\n",
    "df['Description'] = df['Description'].fillna(most_frequent_value)"
   ]
  },
  {
   "cell_type": "code",
   "execution_count": 53,
   "metadata": {},
   "outputs": [
    {
     "data": {
      "text/plain": [
       "InvoiceNo           0\n",
       "StockCode           0\n",
       "Description         0\n",
       "Quantity            0\n",
       "InvoiceDate         0\n",
       "UnitPrice           0\n",
       "CustomerID     135080\n",
       "Country             0\n",
       "dtype: int64"
      ]
     },
     "execution_count": 53,
     "metadata": {},
     "output_type": "execute_result"
    }
   ],
   "source": [
    "#melihat missing value\n",
    "df.isnull().sum()"
   ]
  },
  {
   "cell_type": "code",
   "execution_count": 54,
   "metadata": {},
   "outputs": [],
   "source": [
    "#membuat function agar kategori produk tidak terlalu banyak\n",
    "def kategori_berdasarkan_awalan(description):\n",
    "    if description.startswith(('A', 'B')):\n",
    "        return 'Product A-B'\n",
    "    elif description.startswith(('C', 'D')):\n",
    "        return 'Product C-D'\n",
    "    elif description.startswith(('E', 'F')):    \n",
    "        return 'Product E-F'\n",
    "    elif description.startswith(('G', 'H')):\n",
    "        return 'Product G-H'\n",
    "    elif description.startswith(('I', 'J')):\n",
    "        return 'Product I-J'\n",
    "    elif description.startswith(('K', 'L')):\n",
    "        return 'Product K-L'\n",
    "    elif description.startswith(('M', 'N')):\n",
    "        return 'Product M-N'\n",
    "    elif description.startswith(('O', 'P')):\n",
    "        return 'Product O-P'\n",
    "    elif description.startswith(('Q', 'R')):\n",
    "        return 'Product Q-R'\n",
    "    elif description.startswith(('S', 'T')):\n",
    "        return 'Product S-T'\n",
    "    elif description.startswith(('U', 'V')):\n",
    "        return 'Product U-V'\n",
    "    elif description.startswith(('W', 'X')):\n",
    "        return 'Product W-X'\n",
    "    elif description.startswith(('Y', 'Z')):\n",
    "        return 'Product Y-Z'"
   ]
  },
  {
   "cell_type": "code",
   "execution_count": 55,
   "metadata": {},
   "outputs": [],
   "source": [
    "#menjalankan function\n",
    "df['Description'] = df['Description'].apply(kategori_berdasarkan_awalan)"
   ]
  },
  {
   "cell_type": "code",
   "execution_count": 56,
   "metadata": {},
   "outputs": [
    {
     "data": {
      "text/plain": [
       "InvoiceNo           0\n",
       "StockCode           0\n",
       "Description     18231\n",
       "Quantity            0\n",
       "InvoiceDate         0\n",
       "UnitPrice           0\n",
       "CustomerID     135080\n",
       "Country             0\n",
       "dtype: int64"
      ]
     },
     "execution_count": 56,
     "metadata": {},
     "output_type": "execute_result"
    }
   ],
   "source": [
    "#mengecek pakah masih ada missing value\n",
    "df.isnull().sum()"
   ]
  },
  {
   "cell_type": "code",
   "execution_count": 57,
   "metadata": {},
   "outputs": [],
   "source": [
    "#mengisi data missing value dengan modus\n",
    "most_frequent_values = df['Description'].mode()[0]\n",
    "df['Description'] = df['Description'].fillna(most_frequent_values)"
   ]
  },
  {
   "cell_type": "code",
   "execution_count": 58,
   "metadata": {},
   "outputs": [
    {
     "data": {
      "text/plain": [
       "InvoiceNo           0\n",
       "StockCode           0\n",
       "Description         0\n",
       "Quantity            0\n",
       "InvoiceDate         0\n",
       "UnitPrice           0\n",
       "CustomerID     135080\n",
       "Country             0\n",
       "dtype: int64"
      ]
     },
     "execution_count": 58,
     "metadata": {},
     "output_type": "execute_result"
    }
   ],
   "source": [
    "#missing value di deskriprion sudah hilang\n",
    "df.isnull().sum()"
   ]
  },
  {
   "cell_type": "markdown",
   "metadata": {},
   "source": [
    "# Feature Selection and Feature Engineering"
   ]
  },
  {
   "cell_type": "code",
   "execution_count": 59,
   "metadata": {},
   "outputs": [],
   "source": [
    "#membuat variable data baru\n",
    "df1=df[['Description','Quantity','UnitPrice','Country']]"
   ]
  },
  {
   "cell_type": "code",
   "execution_count": 60,
   "metadata": {},
   "outputs": [],
   "source": [
    "#membagi data yang sudah di future selection menjadi x dan y dengan y yaitu kolom target \n",
    "X= df1.drop('Quantity', axis=1) #fitur\n",
    "y= df1['Quantity'] #target"
   ]
  },
  {
   "cell_type": "code",
   "execution_count": 61,
   "metadata": {},
   "outputs": [
    {
     "name": "stdout",
     "output_type": "stream",
     "text": [
      "Train Size :  (433527, 3)\n",
      "Test Size  :  (108382, 3)\n"
     ]
    }
   ],
   "source": [
    "#fungsi membagi tabel menjadi xtrain,xtest,ytrain,dan ytest dimana nantinya akan di evaluasi setelah data dicleaning. \n",
    "#text size berada pada 0.2 menandakan bahwa 20% data akan di test dan 80% ada akan di train\n",
    "X_train, X_test, y_train, y_test = train_test_split(X, y, test_size=0.2, random_state=3)\n",
    "\n",
    "print('Train Size : ', X_train.shape)\n",
    "print('Test Size  : ', X_test.shape)"
   ]
  },
  {
   "cell_type": "code",
   "execution_count": 62,
   "metadata": {},
   "outputs": [],
   "source": [
    "#fungsi memilih kolom pada xtrain dan xtest yang sudah ditest pada fungsi kolerasi di atas\n",
    "X_train=X_train[['Description','UnitPrice','Country']]\n",
    "X_test=X_test[['Description','UnitPrice','Country']]"
   ]
  },
  {
   "cell_type": "code",
   "execution_count": 63,
   "metadata": {},
   "outputs": [
    {
     "name": "stdout",
     "output_type": "stream",
     "text": [
      "Numerical Columns :  453248    0.83\n",
      "39751     1.65\n",
      "375256    1.65\n",
      "451651    1.06\n",
      "91578     6.75\n",
      "          ... \n",
      "215699    2.55\n",
      "535549    2.46\n",
      "366848    0.83\n",
      "452227    2.10\n",
      "71530     2.55\n",
      "Name: UnitPrice, Length: 433527, dtype: float64\n",
      "Categorical Columns :          Description         Country\n",
      "453248  Product S-T  United Kingdom\n",
      "39751   Product I-J  United Kingdom\n",
      "375256  Product K-L  United Kingdom\n",
      "451651  Product Q-R  United Kingdom\n",
      "91578   Product C-D  United Kingdom\n",
      "...             ...             ...\n",
      "215699  Product G-H  United Kingdom\n",
      "535549  Product S-T  United Kingdom\n",
      "366848  Product S-T  United Kingdom\n",
      "452227  Product G-H  United Kingdom\n",
      "71530   Product A-B  United Kingdom\n",
      "\n",
      "[433527 rows x 2 columns]\n"
     ]
    }
   ],
   "source": [
    "#membagi xtrain menjadi kolom numerical dan kategorical untuk nantinya dilatih dan ditest\n",
    "train_num_columns = X_train['UnitPrice']\n",
    "train_cat_columns = X_train[['Description','Country']]\n",
    "print('Numerical Columns : ', train_num_columns)\n",
    "print('Categorical Columns : ', train_cat_columns)"
   ]
  },
  {
   "cell_type": "code",
   "execution_count": 64,
   "metadata": {},
   "outputs": [
    {
     "name": "stdout",
     "output_type": "stream",
     "text": [
      "Numerical Columns :  132701    2.95\n",
      "451617    8.95\n",
      "313583    2.46\n",
      "84285     1.25\n",
      "475344    1.45\n",
      "          ... \n",
      "190827    0.42\n",
      "451439    0.29\n",
      "154238    0.42\n",
      "174865    0.42\n",
      "326453    2.95\n",
      "Name: UnitPrice, Length: 108382, dtype: float64\n",
      "Categorical Columns :          Description         Country\n",
      "132701  Product O-P  United Kingdom\n",
      "451617  Product Q-R  United Kingdom\n",
      "313583  Product K-L  United Kingdom\n",
      "84285   Product S-T  United Kingdom\n",
      "475344  Product G-H  United Kingdom\n",
      "...             ...             ...\n",
      "190827  Product W-X  United Kingdom\n",
      "451439  Product W-X  United Kingdom\n",
      "154238  Product U-V  United Kingdom\n",
      "174865  Product S-T  United Kingdom\n",
      "326453  Product Q-R  United Kingdom\n",
      "\n",
      "[108382 rows x 2 columns]\n"
     ]
    }
   ],
   "source": [
    "#membagi xtest menjadi kolom numerical dan kategorical untuk nantinya dilatih dan ditest\n",
    "test_num_columns = X_test['UnitPrice']\n",
    "test_cat_columns = X_test[['Description','Country']]\n",
    "print('Numerical Columns : ', test_num_columns)\n",
    "print('Categorical Columns : ', test_cat_columns)"
   ]
  },
  {
   "cell_type": "code",
   "execution_count": 65,
   "metadata": {},
   "outputs": [],
   "source": [
    "#pada xtrain dan xtest yang sudah dibagi buat dalam bentuk dataframe agar nantinya bisa diproses\n",
    "\n",
    "X_train_num = pd.DataFrame(train_num_columns)\n",
    "X_train_cat = pd.DataFrame(train_cat_columns)\n",
    "\n",
    "X_test_num = pd.DataFrame(test_num_columns)\n",
    "X_test_cat = pd.DataFrame(test_cat_columns)"
   ]
  },
  {
   "cell_type": "code",
   "execution_count": 66,
   "metadata": {},
   "outputs": [
    {
     "name": "stdout",
     "output_type": "stream",
     "text": [
      "Skewness dari distance :187.58490283779963\n"
     ]
    }
   ],
   "source": [
    "#menghitung persebaran jenis data dengan metode skewness\n",
    "print(f\"Skewness dari distance :{X_train_num['UnitPrice'].skew()}\")"
   ]
  },
  {
   "cell_type": "code",
   "execution_count": 67,
   "metadata": {},
   "outputs": [],
   "source": [
    "#menghapus outlier pada kolom limit_balance di X train dan X test dengan tukey karena x test skewnessnya lebih dari 1 dan x train skewnessnya mendekati 1 dan outlier kurangd air 5%\n",
    "Trimmer_price = OutlierTrimmer(capping_method='iqr',\n",
    "                             tail='both',\n",
    "                             fold=1.5,\n",
    "                             variables=['UnitPrice'])\n",
    "\n",
    "X_train_trimmer = Trimmer_price.fit_transform(X_train)\n",
    "X_test_trimmer = Trimmer_price.transform(X_test)"
   ]
  },
  {
   "cell_type": "code",
   "execution_count": 68,
   "metadata": {},
   "outputs": [
    {
     "data": {
      "text/plain": [
       "453248    0.83\n",
       "39751     1.65\n",
       "375256    1.65\n",
       "451651    1.06\n",
       "91578     6.75\n",
       "          ... \n",
       "215699    2.55\n",
       "535549    2.46\n",
       "366848    0.83\n",
       "452227    2.10\n",
       "71530     2.55\n",
       "Name: UnitPrice, Length: 433527, dtype: float64"
      ]
     },
     "execution_count": 68,
     "metadata": {},
     "output_type": "execute_result"
    }
   ],
   "source": [
    "train_num_columns"
   ]
  },
  {
   "cell_type": "code",
   "execution_count": 69,
   "metadata": {},
   "outputs": [],
   "source": [
    "#menggunakan standard scaler karena data normal pada x train\n",
    "scaler = StandardScaler()\n",
    "model = scaler.fit(X_train_num)\n",
    "train_scaller = model.transform(X_train_num)"
   ]
  },
  {
   "cell_type": "code",
   "execution_count": 70,
   "metadata": {},
   "outputs": [
    {
     "data": {
      "text/plain": [
       "array([[-0.0372399 ],\n",
       "       [-0.0292302 ],\n",
       "       [-0.0292302 ],\n",
       "       ...,\n",
       "       [-0.0372399 ],\n",
       "       [-0.02483464],\n",
       "       [-0.02043908]])"
      ]
     },
     "execution_count": 70,
     "metadata": {},
     "output_type": "execute_result"
    }
   ],
   "source": [
    "#hasil dari data yang sudah di scalling\n",
    "train_scaller"
   ]
  },
  {
   "cell_type": "code",
   "execution_count": 71,
   "metadata": {},
   "outputs": [],
   "source": [
    "#melakukan scaling pada kolom numerikal di x test\n",
    "test_Scaller = scaler.transform(X_test_num)"
   ]
  },
  {
   "cell_type": "code",
   "execution_count": 72,
   "metadata": {},
   "outputs": [
    {
     "data": {
      "text/plain": [
       "array([[-0.01653191],\n",
       "       [ 0.04207559],\n",
       "       [-0.02131819],\n",
       "       ...,\n",
       "       [-0.04124474],\n",
       "       [-0.04124474],\n",
       "       [-0.01653191]])"
      ]
     },
     "execution_count": 72,
     "metadata": {},
     "output_type": "execute_result"
    }
   ],
   "source": [
    "##hasil dari data yang sudah di scalling\n",
    "test_Scaller"
   ]
  },
  {
   "cell_type": "code",
   "execution_count": 73,
   "metadata": {},
   "outputs": [],
   "source": [
    "#membuat variabel baru untuk kolom kategorical untuk di encoding\n",
    "X_train_nominal = X_train[['Description','Country']]\n",
    "X_test_nominal = X_test[['Description','Country']]"
   ]
  },
  {
   "cell_type": "code",
   "execution_count": 74,
   "metadata": {},
   "outputs": [
    {
     "data": {
      "text/html": [
       "<div>\n",
       "<style scoped>\n",
       "    .dataframe tbody tr th:only-of-type {\n",
       "        vertical-align: middle;\n",
       "    }\n",
       "\n",
       "    .dataframe tbody tr th {\n",
       "        vertical-align: top;\n",
       "    }\n",
       "\n",
       "    .dataframe thead th {\n",
       "        text-align: right;\n",
       "    }\n",
       "</style>\n",
       "<table border=\"1\" class=\"dataframe\">\n",
       "  <thead>\n",
       "    <tr style=\"text-align: right;\">\n",
       "      <th></th>\n",
       "      <th>Description</th>\n",
       "      <th>Country</th>\n",
       "    </tr>\n",
       "  </thead>\n",
       "  <tbody>\n",
       "    <tr>\n",
       "      <th>453248</th>\n",
       "      <td>Product S-T</td>\n",
       "      <td>United Kingdom</td>\n",
       "    </tr>\n",
       "    <tr>\n",
       "      <th>39751</th>\n",
       "      <td>Product I-J</td>\n",
       "      <td>United Kingdom</td>\n",
       "    </tr>\n",
       "    <tr>\n",
       "      <th>375256</th>\n",
       "      <td>Product K-L</td>\n",
       "      <td>United Kingdom</td>\n",
       "    </tr>\n",
       "    <tr>\n",
       "      <th>451651</th>\n",
       "      <td>Product Q-R</td>\n",
       "      <td>United Kingdom</td>\n",
       "    </tr>\n",
       "    <tr>\n",
       "      <th>91578</th>\n",
       "      <td>Product C-D</td>\n",
       "      <td>United Kingdom</td>\n",
       "    </tr>\n",
       "    <tr>\n",
       "      <th>...</th>\n",
       "      <td>...</td>\n",
       "      <td>...</td>\n",
       "    </tr>\n",
       "    <tr>\n",
       "      <th>215699</th>\n",
       "      <td>Product G-H</td>\n",
       "      <td>United Kingdom</td>\n",
       "    </tr>\n",
       "    <tr>\n",
       "      <th>535549</th>\n",
       "      <td>Product S-T</td>\n",
       "      <td>United Kingdom</td>\n",
       "    </tr>\n",
       "    <tr>\n",
       "      <th>366848</th>\n",
       "      <td>Product S-T</td>\n",
       "      <td>United Kingdom</td>\n",
       "    </tr>\n",
       "    <tr>\n",
       "      <th>452227</th>\n",
       "      <td>Product G-H</td>\n",
       "      <td>United Kingdom</td>\n",
       "    </tr>\n",
       "    <tr>\n",
       "      <th>71530</th>\n",
       "      <td>Product A-B</td>\n",
       "      <td>United Kingdom</td>\n",
       "    </tr>\n",
       "  </tbody>\n",
       "</table>\n",
       "<p>433527 rows × 2 columns</p>\n",
       "</div>"
      ],
      "text/plain": [
       "        Description         Country\n",
       "453248  Product S-T  United Kingdom\n",
       "39751   Product I-J  United Kingdom\n",
       "375256  Product K-L  United Kingdom\n",
       "451651  Product Q-R  United Kingdom\n",
       "91578   Product C-D  United Kingdom\n",
       "...             ...             ...\n",
       "215699  Product G-H  United Kingdom\n",
       "535549  Product S-T  United Kingdom\n",
       "366848  Product S-T  United Kingdom\n",
       "452227  Product G-H  United Kingdom\n",
       "71530   Product A-B  United Kingdom\n",
       "\n",
       "[433527 rows x 2 columns]"
      ]
     },
     "execution_count": 74,
     "metadata": {},
     "output_type": "execute_result"
    }
   ],
   "source": [
    "# ubah dalam bentuk dataframe\n",
    "X_train_nominal = pd.DataFrame(X_train_nominal)\n",
    "X_test_nominal = pd.DataFrame(X_test_nominal)\n",
    "X_train_nominal"
   ]
  },
  {
   "cell_type": "code",
   "execution_count": 75,
   "metadata": {},
   "outputs": [
    {
     "name": "stderr",
     "output_type": "stream",
     "text": [
      "c:\\Users\\kenne\\AppData\\Local\\Programs\\Python\\Python311\\Lib\\site-packages\\sklearn\\preprocessing\\_encoders.py:975: FutureWarning: `sparse` was renamed to `sparse_output` in version 1.2 and will be removed in 1.4. `sparse_output` is ignored unless you leave `sparse` to its default value.\n",
      "  warnings.warn(\n"
     ]
    }
   ],
   "source": [
    "#melakukan encoding pada data x train dan x test kategorical dengan variabel hanya nama saja karena surge multiplier sudah berbentuk numeric\n",
    "encoder= OneHotEncoder(sparse=False) #array\n",
    "\n",
    "encoder.fit(X_train_nominal)\n",
    "X_train_ohe= encoder.transform(X_train_nominal)\n",
    "X_test_ohe= encoder.transform(X_test_nominal)\n"
   ]
  },
  {
   "cell_type": "code",
   "execution_count": 76,
   "metadata": {},
   "outputs": [
    {
     "data": {
      "text/plain": [
       "array([[0., 0., 0., ..., 0., 1., 0.],\n",
       "       [0., 0., 0., ..., 0., 1., 0.],\n",
       "       [0., 0., 0., ..., 0., 1., 0.],\n",
       "       ...,\n",
       "       [0., 0., 0., ..., 0., 1., 0.],\n",
       "       [0., 0., 0., ..., 0., 1., 0.],\n",
       "       [1., 0., 0., ..., 0., 1., 0.]])"
      ]
     },
     "execution_count": 76,
     "metadata": {},
     "output_type": "execute_result"
    }
   ],
   "source": [
    "#hasil dari x train kategorical yang sudah di encoding\n",
    "X_train_ohe"
   ]
  },
  {
   "cell_type": "code",
   "execution_count": 77,
   "metadata": {},
   "outputs": [
    {
     "data": {
      "text/plain": [
       "array([[0., 0., 0., ..., 0., 1., 0.],\n",
       "       [0., 0., 0., ..., 0., 1., 0.],\n",
       "       [0., 0., 0., ..., 0., 1., 0.],\n",
       "       ...,\n",
       "       [0., 0., 0., ..., 0., 1., 0.],\n",
       "       [0., 0., 0., ..., 0., 1., 0.],\n",
       "       [0., 0., 0., ..., 0., 1., 0.]])"
      ]
     },
     "execution_count": 77,
     "metadata": {},
     "output_type": "execute_result"
    }
   ],
   "source": [
    "#hasil dari x test kategorical yang sudah di encoding\n",
    "X_test_ohe"
   ]
  },
  {
   "cell_type": "code",
   "execution_count": 78,
   "metadata": {},
   "outputs": [
    {
     "data": {
      "text/plain": [
       "array(['Description_Product A-B', 'Description_Product C-D',\n",
       "       'Description_Product E-F', 'Description_Product G-H',\n",
       "       'Description_Product I-J', 'Description_Product K-L',\n",
       "       'Description_Product M-N', 'Description_Product O-P',\n",
       "       'Description_Product Q-R', 'Description_Product S-T',\n",
       "       'Description_Product U-V', 'Description_Product W-X',\n",
       "       'Description_Product Y-Z', 'Country_Australia', 'Country_Austria',\n",
       "       'Country_Bahrain', 'Country_Belgium', 'Country_Brazil',\n",
       "       'Country_Canada', 'Country_Channel Islands', 'Country_Cyprus',\n",
       "       'Country_Czech Republic', 'Country_Denmark', 'Country_EIRE',\n",
       "       'Country_European Community', 'Country_Finland', 'Country_France',\n",
       "       'Country_Germany', 'Country_Greece', 'Country_Hong Kong',\n",
       "       'Country_Iceland', 'Country_Israel', 'Country_Italy',\n",
       "       'Country_Japan', 'Country_Lebanon', 'Country_Lithuania',\n",
       "       'Country_Malta', 'Country_Netherlands', 'Country_Norway',\n",
       "       'Country_Poland', 'Country_Portugal', 'Country_RSA',\n",
       "       'Country_Saudi Arabia', 'Country_Singapore', 'Country_Spain',\n",
       "       'Country_Sweden', 'Country_Switzerland', 'Country_USA',\n",
       "       'Country_United Arab Emirates', 'Country_United Kingdom',\n",
       "       'Country_Unspecified'], dtype=object)"
      ]
     },
     "execution_count": 78,
     "metadata": {},
     "output_type": "execute_result"
    }
   ],
   "source": [
    "#menampilkan jenis data yang ada di kolom nama kategorical\n",
    "encoder.get_feature_names_out()"
   ]
  },
  {
   "cell_type": "code",
   "execution_count": 79,
   "metadata": {},
   "outputs": [],
   "source": [
    "#memanggil nama pada x train ohes dan x test ohes agar ada namanya \n",
    "x_train_ohes=pd.DataFrame(X_train_ohe, columns=encoder.get_feature_names_out())\n",
    "x_test_ohes=pd.DataFrame(X_test_ohe, columns=encoder.get_feature_names_out())"
   ]
  },
  {
   "cell_type": "code",
   "execution_count": 82,
   "metadata": {},
   "outputs": [],
   "source": [
    "#reset index kolom numerical x train dan x text\n",
    "X_train_num_fixs = X_train_trimmer['UnitPrice'].reset_index(drop=True)\n",
    "X_test_num_fixs = X_test_trimmer['UnitPrice'].reset_index(drop=True)"
   ]
  },
  {
   "cell_type": "code",
   "execution_count": 83,
   "metadata": {},
   "outputs": [],
   "source": [
    "#menyamakan index dengan fungsi iloc\n",
    "X_train_ohes_new = x_train_ohes.iloc[X_train_num_fixs.index]\n",
    "X_test_ohes_new = x_test_ohes.iloc[X_test_num_fixs.index]"
   ]
  },
  {
   "cell_type": "code",
   "execution_count": 84,
   "metadata": {},
   "outputs": [],
   "source": [
    "#melakukan concat\n",
    "X_train_final = pd.concat([X_train_num_fixs, X_train_ohes_new], axis=1)\n",
    "X_test_final = pd.concat([X_test_num_fixs, X_test_ohes_new], axis=1)"
   ]
  },
  {
   "cell_type": "code",
   "execution_count": 85,
   "metadata": {},
   "outputs": [],
   "source": [
    "#menyamakan index y train dengan iloc\n",
    "y_train = y_train.iloc[X_train_num_fixs.index]\n",
    "y_test = y_test.iloc[X_test_num_fixs.index]"
   ]
  },
  {
   "cell_type": "code",
   "execution_count": 86,
   "metadata": {},
   "outputs": [
    {
     "data": {
      "text/html": [
       "<div>\n",
       "<style scoped>\n",
       "    .dataframe tbody tr th:only-of-type {\n",
       "        vertical-align: middle;\n",
       "    }\n",
       "\n",
       "    .dataframe tbody tr th {\n",
       "        vertical-align: top;\n",
       "    }\n",
       "\n",
       "    .dataframe thead th {\n",
       "        text-align: right;\n",
       "    }\n",
       "</style>\n",
       "<table border=\"1\" class=\"dataframe\">\n",
       "  <thead>\n",
       "    <tr style=\"text-align: right;\">\n",
       "      <th></th>\n",
       "      <th>Quantity</th>\n",
       "    </tr>\n",
       "  </thead>\n",
       "  <tbody>\n",
       "    <tr>\n",
       "      <th>453248</th>\n",
       "      <td>3</td>\n",
       "    </tr>\n",
       "    <tr>\n",
       "      <th>39751</th>\n",
       "      <td>100</td>\n",
       "    </tr>\n",
       "    <tr>\n",
       "      <th>375256</th>\n",
       "      <td>6</td>\n",
       "    </tr>\n",
       "    <tr>\n",
       "      <th>451651</th>\n",
       "      <td>72</td>\n",
       "    </tr>\n",
       "    <tr>\n",
       "      <th>91578</th>\n",
       "      <td>2</td>\n",
       "    </tr>\n",
       "    <tr>\n",
       "      <th>...</th>\n",
       "      <td>...</td>\n",
       "    </tr>\n",
       "    <tr>\n",
       "      <th>532172</th>\n",
       "      <td>2</td>\n",
       "    </tr>\n",
       "    <tr>\n",
       "      <th>251098</th>\n",
       "      <td>4</td>\n",
       "    </tr>\n",
       "    <tr>\n",
       "      <th>78127</th>\n",
       "      <td>1</td>\n",
       "    </tr>\n",
       "    <tr>\n",
       "      <th>42624</th>\n",
       "      <td>4</td>\n",
       "    </tr>\n",
       "    <tr>\n",
       "      <th>326359</th>\n",
       "      <td>2</td>\n",
       "    </tr>\n",
       "  </tbody>\n",
       "</table>\n",
       "<p>401796 rows × 1 columns</p>\n",
       "</div>"
      ],
      "text/plain": [
       "        Quantity\n",
       "453248         3\n",
       "39751        100\n",
       "375256         6\n",
       "451651        72\n",
       "91578          2\n",
       "...          ...\n",
       "532172         2\n",
       "251098         4\n",
       "78127          1\n",
       "42624          4\n",
       "326359         2\n",
       "\n",
       "[401796 rows x 1 columns]"
      ]
     },
     "execution_count": 86,
     "metadata": {},
     "output_type": "execute_result"
    }
   ],
   "source": [
    "#membuat data frame\n",
    "y_train=pd.DataFrame(y_train)\n",
    "y_train"
   ]
  },
  {
   "cell_type": "markdown",
   "metadata": {},
   "source": [
    "# Model Definition"
   ]
  },
  {
   "cell_type": "code",
   "execution_count": 87,
   "metadata": {},
   "outputs": [],
   "source": [
    "#membuat variabel baru penampung linear regresi\n",
    "model_lin_reg = LinearRegression()"
   ]
  },
  {
   "cell_type": "code",
   "execution_count": 88,
   "metadata": {},
   "outputs": [
    {
     "data": {
      "text/html": [
       "<style>#sk-container-id-4 {color: black;}#sk-container-id-4 pre{padding: 0;}#sk-container-id-4 div.sk-toggleable {background-color: white;}#sk-container-id-4 label.sk-toggleable__label {cursor: pointer;display: block;width: 100%;margin-bottom: 0;padding: 0.3em;box-sizing: border-box;text-align: center;}#sk-container-id-4 label.sk-toggleable__label-arrow:before {content: \"▸\";float: left;margin-right: 0.25em;color: #696969;}#sk-container-id-4 label.sk-toggleable__label-arrow:hover:before {color: black;}#sk-container-id-4 div.sk-estimator:hover label.sk-toggleable__label-arrow:before {color: black;}#sk-container-id-4 div.sk-toggleable__content {max-height: 0;max-width: 0;overflow: hidden;text-align: left;background-color: #f0f8ff;}#sk-container-id-4 div.sk-toggleable__content pre {margin: 0.2em;color: black;border-radius: 0.25em;background-color: #f0f8ff;}#sk-container-id-4 input.sk-toggleable__control:checked~div.sk-toggleable__content {max-height: 200px;max-width: 100%;overflow: auto;}#sk-container-id-4 input.sk-toggleable__control:checked~label.sk-toggleable__label-arrow:before {content: \"▾\";}#sk-container-id-4 div.sk-estimator input.sk-toggleable__control:checked~label.sk-toggleable__label {background-color: #d4ebff;}#sk-container-id-4 div.sk-label input.sk-toggleable__control:checked~label.sk-toggleable__label {background-color: #d4ebff;}#sk-container-id-4 input.sk-hidden--visually {border: 0;clip: rect(1px 1px 1px 1px);clip: rect(1px, 1px, 1px, 1px);height: 1px;margin: -1px;overflow: hidden;padding: 0;position: absolute;width: 1px;}#sk-container-id-4 div.sk-estimator {font-family: monospace;background-color: #f0f8ff;border: 1px dotted black;border-radius: 0.25em;box-sizing: border-box;margin-bottom: 0.5em;}#sk-container-id-4 div.sk-estimator:hover {background-color: #d4ebff;}#sk-container-id-4 div.sk-parallel-item::after {content: \"\";width: 100%;border-bottom: 1px solid gray;flex-grow: 1;}#sk-container-id-4 div.sk-label:hover label.sk-toggleable__label {background-color: #d4ebff;}#sk-container-id-4 div.sk-serial::before {content: \"\";position: absolute;border-left: 1px solid gray;box-sizing: border-box;top: 0;bottom: 0;left: 50%;z-index: 0;}#sk-container-id-4 div.sk-serial {display: flex;flex-direction: column;align-items: center;background-color: white;padding-right: 0.2em;padding-left: 0.2em;position: relative;}#sk-container-id-4 div.sk-item {position: relative;z-index: 1;}#sk-container-id-4 div.sk-parallel {display: flex;align-items: stretch;justify-content: center;background-color: white;position: relative;}#sk-container-id-4 div.sk-item::before, #sk-container-id-4 div.sk-parallel-item::before {content: \"\";position: absolute;border-left: 1px solid gray;box-sizing: border-box;top: 0;bottom: 0;left: 50%;z-index: -1;}#sk-container-id-4 div.sk-parallel-item {display: flex;flex-direction: column;z-index: 1;position: relative;background-color: white;}#sk-container-id-4 div.sk-parallel-item:first-child::after {align-self: flex-end;width: 50%;}#sk-container-id-4 div.sk-parallel-item:last-child::after {align-self: flex-start;width: 50%;}#sk-container-id-4 div.sk-parallel-item:only-child::after {width: 0;}#sk-container-id-4 div.sk-dashed-wrapped {border: 1px dashed gray;margin: 0 0.4em 0.5em 0.4em;box-sizing: border-box;padding-bottom: 0.4em;background-color: white;}#sk-container-id-4 div.sk-label label {font-family: monospace;font-weight: bold;display: inline-block;line-height: 1.2em;}#sk-container-id-4 div.sk-label-container {text-align: center;}#sk-container-id-4 div.sk-container {/* jupyter's `normalize.less` sets `[hidden] { display: none; }` but bootstrap.min.css set `[hidden] { display: none !important; }` so we also need the `!important` here to be able to override the default hidden behavior on the sphinx rendered scikit-learn.org. See: https://github.com/scikit-learn/scikit-learn/issues/21755 */display: inline-block !important;position: relative;}#sk-container-id-4 div.sk-text-repr-fallback {display: none;}</style><div id=\"sk-container-id-4\" class=\"sk-top-container\"><div class=\"sk-text-repr-fallback\"><pre>LinearRegression()</pre><b>In a Jupyter environment, please rerun this cell to show the HTML representation or trust the notebook. <br />On GitHub, the HTML representation is unable to render, please try loading this page with nbviewer.org.</b></div><div class=\"sk-container\" hidden><div class=\"sk-item\"><div class=\"sk-estimator sk-toggleable\"><input class=\"sk-toggleable__control sk-hidden--visually\" id=\"sk-estimator-id-4\" type=\"checkbox\" checked><label for=\"sk-estimator-id-4\" class=\"sk-toggleable__label sk-toggleable__label-arrow\">LinearRegression</label><div class=\"sk-toggleable__content\"><pre>LinearRegression()</pre></div></div></div></div></div>"
      ],
      "text/plain": [
       "LinearRegression()"
      ]
     },
     "execution_count": 88,
     "metadata": {},
     "output_type": "execute_result"
    }
   ],
   "source": [
    "#memanggil model\n",
    "model_lin_reg"
   ]
  },
  {
   "cell_type": "markdown",
   "metadata": {},
   "source": [
    "# Model Training"
   ]
  },
  {
   "cell_type": "code",
   "execution_count": 89,
   "metadata": {},
   "outputs": [
    {
     "data": {
      "text/html": [
       "<style>#sk-container-id-5 {color: black;}#sk-container-id-5 pre{padding: 0;}#sk-container-id-5 div.sk-toggleable {background-color: white;}#sk-container-id-5 label.sk-toggleable__label {cursor: pointer;display: block;width: 100%;margin-bottom: 0;padding: 0.3em;box-sizing: border-box;text-align: center;}#sk-container-id-5 label.sk-toggleable__label-arrow:before {content: \"▸\";float: left;margin-right: 0.25em;color: #696969;}#sk-container-id-5 label.sk-toggleable__label-arrow:hover:before {color: black;}#sk-container-id-5 div.sk-estimator:hover label.sk-toggleable__label-arrow:before {color: black;}#sk-container-id-5 div.sk-toggleable__content {max-height: 0;max-width: 0;overflow: hidden;text-align: left;background-color: #f0f8ff;}#sk-container-id-5 div.sk-toggleable__content pre {margin: 0.2em;color: black;border-radius: 0.25em;background-color: #f0f8ff;}#sk-container-id-5 input.sk-toggleable__control:checked~div.sk-toggleable__content {max-height: 200px;max-width: 100%;overflow: auto;}#sk-container-id-5 input.sk-toggleable__control:checked~label.sk-toggleable__label-arrow:before {content: \"▾\";}#sk-container-id-5 div.sk-estimator input.sk-toggleable__control:checked~label.sk-toggleable__label {background-color: #d4ebff;}#sk-container-id-5 div.sk-label input.sk-toggleable__control:checked~label.sk-toggleable__label {background-color: #d4ebff;}#sk-container-id-5 input.sk-hidden--visually {border: 0;clip: rect(1px 1px 1px 1px);clip: rect(1px, 1px, 1px, 1px);height: 1px;margin: -1px;overflow: hidden;padding: 0;position: absolute;width: 1px;}#sk-container-id-5 div.sk-estimator {font-family: monospace;background-color: #f0f8ff;border: 1px dotted black;border-radius: 0.25em;box-sizing: border-box;margin-bottom: 0.5em;}#sk-container-id-5 div.sk-estimator:hover {background-color: #d4ebff;}#sk-container-id-5 div.sk-parallel-item::after {content: \"\";width: 100%;border-bottom: 1px solid gray;flex-grow: 1;}#sk-container-id-5 div.sk-label:hover label.sk-toggleable__label {background-color: #d4ebff;}#sk-container-id-5 div.sk-serial::before {content: \"\";position: absolute;border-left: 1px solid gray;box-sizing: border-box;top: 0;bottom: 0;left: 50%;z-index: 0;}#sk-container-id-5 div.sk-serial {display: flex;flex-direction: column;align-items: center;background-color: white;padding-right: 0.2em;padding-left: 0.2em;position: relative;}#sk-container-id-5 div.sk-item {position: relative;z-index: 1;}#sk-container-id-5 div.sk-parallel {display: flex;align-items: stretch;justify-content: center;background-color: white;position: relative;}#sk-container-id-5 div.sk-item::before, #sk-container-id-5 div.sk-parallel-item::before {content: \"\";position: absolute;border-left: 1px solid gray;box-sizing: border-box;top: 0;bottom: 0;left: 50%;z-index: -1;}#sk-container-id-5 div.sk-parallel-item {display: flex;flex-direction: column;z-index: 1;position: relative;background-color: white;}#sk-container-id-5 div.sk-parallel-item:first-child::after {align-self: flex-end;width: 50%;}#sk-container-id-5 div.sk-parallel-item:last-child::after {align-self: flex-start;width: 50%;}#sk-container-id-5 div.sk-parallel-item:only-child::after {width: 0;}#sk-container-id-5 div.sk-dashed-wrapped {border: 1px dashed gray;margin: 0 0.4em 0.5em 0.4em;box-sizing: border-box;padding-bottom: 0.4em;background-color: white;}#sk-container-id-5 div.sk-label label {font-family: monospace;font-weight: bold;display: inline-block;line-height: 1.2em;}#sk-container-id-5 div.sk-label-container {text-align: center;}#sk-container-id-5 div.sk-container {/* jupyter's `normalize.less` sets `[hidden] { display: none; }` but bootstrap.min.css set `[hidden] { display: none !important; }` so we also need the `!important` here to be able to override the default hidden behavior on the sphinx rendered scikit-learn.org. See: https://github.com/scikit-learn/scikit-learn/issues/21755 */display: inline-block !important;position: relative;}#sk-container-id-5 div.sk-text-repr-fallback {display: none;}</style><div id=\"sk-container-id-5\" class=\"sk-top-container\"><div class=\"sk-text-repr-fallback\"><pre>LinearRegression()</pre><b>In a Jupyter environment, please rerun this cell to show the HTML representation or trust the notebook. <br />On GitHub, the HTML representation is unable to render, please try loading this page with nbviewer.org.</b></div><div class=\"sk-container\" hidden><div class=\"sk-item\"><div class=\"sk-estimator sk-toggleable\"><input class=\"sk-toggleable__control sk-hidden--visually\" id=\"sk-estimator-id-5\" type=\"checkbox\" checked><label for=\"sk-estimator-id-5\" class=\"sk-toggleable__label sk-toggleable__label-arrow\">LinearRegression</label><div class=\"sk-toggleable__content\"><pre>LinearRegression()</pre></div></div></div></div></div>"
      ],
      "text/plain": [
       "LinearRegression()"
      ]
     },
     "execution_count": 89,
     "metadata": {},
     "output_type": "execute_result"
    }
   ],
   "source": [
    "#melakukan model training\n",
    "model_lin_reg.fit(X_train_final, y_train)"
   ]
  },
  {
   "cell_type": "code",
   "execution_count": 90,
   "metadata": {},
   "outputs": [
    {
     "data": {
      "text/html": [
       "<style>#sk-container-id-6 {color: black;}#sk-container-id-6 pre{padding: 0;}#sk-container-id-6 div.sk-toggleable {background-color: white;}#sk-container-id-6 label.sk-toggleable__label {cursor: pointer;display: block;width: 100%;margin-bottom: 0;padding: 0.3em;box-sizing: border-box;text-align: center;}#sk-container-id-6 label.sk-toggleable__label-arrow:before {content: \"▸\";float: left;margin-right: 0.25em;color: #696969;}#sk-container-id-6 label.sk-toggleable__label-arrow:hover:before {color: black;}#sk-container-id-6 div.sk-estimator:hover label.sk-toggleable__label-arrow:before {color: black;}#sk-container-id-6 div.sk-toggleable__content {max-height: 0;max-width: 0;overflow: hidden;text-align: left;background-color: #f0f8ff;}#sk-container-id-6 div.sk-toggleable__content pre {margin: 0.2em;color: black;border-radius: 0.25em;background-color: #f0f8ff;}#sk-container-id-6 input.sk-toggleable__control:checked~div.sk-toggleable__content {max-height: 200px;max-width: 100%;overflow: auto;}#sk-container-id-6 input.sk-toggleable__control:checked~label.sk-toggleable__label-arrow:before {content: \"▾\";}#sk-container-id-6 div.sk-estimator input.sk-toggleable__control:checked~label.sk-toggleable__label {background-color: #d4ebff;}#sk-container-id-6 div.sk-label input.sk-toggleable__control:checked~label.sk-toggleable__label {background-color: #d4ebff;}#sk-container-id-6 input.sk-hidden--visually {border: 0;clip: rect(1px 1px 1px 1px);clip: rect(1px, 1px, 1px, 1px);height: 1px;margin: -1px;overflow: hidden;padding: 0;position: absolute;width: 1px;}#sk-container-id-6 div.sk-estimator {font-family: monospace;background-color: #f0f8ff;border: 1px dotted black;border-radius: 0.25em;box-sizing: border-box;margin-bottom: 0.5em;}#sk-container-id-6 div.sk-estimator:hover {background-color: #d4ebff;}#sk-container-id-6 div.sk-parallel-item::after {content: \"\";width: 100%;border-bottom: 1px solid gray;flex-grow: 1;}#sk-container-id-6 div.sk-label:hover label.sk-toggleable__label {background-color: #d4ebff;}#sk-container-id-6 div.sk-serial::before {content: \"\";position: absolute;border-left: 1px solid gray;box-sizing: border-box;top: 0;bottom: 0;left: 50%;z-index: 0;}#sk-container-id-6 div.sk-serial {display: flex;flex-direction: column;align-items: center;background-color: white;padding-right: 0.2em;padding-left: 0.2em;position: relative;}#sk-container-id-6 div.sk-item {position: relative;z-index: 1;}#sk-container-id-6 div.sk-parallel {display: flex;align-items: stretch;justify-content: center;background-color: white;position: relative;}#sk-container-id-6 div.sk-item::before, #sk-container-id-6 div.sk-parallel-item::before {content: \"\";position: absolute;border-left: 1px solid gray;box-sizing: border-box;top: 0;bottom: 0;left: 50%;z-index: -1;}#sk-container-id-6 div.sk-parallel-item {display: flex;flex-direction: column;z-index: 1;position: relative;background-color: white;}#sk-container-id-6 div.sk-parallel-item:first-child::after {align-self: flex-end;width: 50%;}#sk-container-id-6 div.sk-parallel-item:last-child::after {align-self: flex-start;width: 50%;}#sk-container-id-6 div.sk-parallel-item:only-child::after {width: 0;}#sk-container-id-6 div.sk-dashed-wrapped {border: 1px dashed gray;margin: 0 0.4em 0.5em 0.4em;box-sizing: border-box;padding-bottom: 0.4em;background-color: white;}#sk-container-id-6 div.sk-label label {font-family: monospace;font-weight: bold;display: inline-block;line-height: 1.2em;}#sk-container-id-6 div.sk-label-container {text-align: center;}#sk-container-id-6 div.sk-container {/* jupyter's `normalize.less` sets `[hidden] { display: none; }` but bootstrap.min.css set `[hidden] { display: none !important; }` so we also need the `!important` here to be able to override the default hidden behavior on the sphinx rendered scikit-learn.org. See: https://github.com/scikit-learn/scikit-learn/issues/21755 */display: inline-block !important;position: relative;}#sk-container-id-6 div.sk-text-repr-fallback {display: none;}</style><div id=\"sk-container-id-6\" class=\"sk-top-container\"><div class=\"sk-text-repr-fallback\"><pre>LinearRegression()</pre><b>In a Jupyter environment, please rerun this cell to show the HTML representation or trust the notebook. <br />On GitHub, the HTML representation is unable to render, please try loading this page with nbviewer.org.</b></div><div class=\"sk-container\" hidden><div class=\"sk-item\"><div class=\"sk-estimator sk-toggleable\"><input class=\"sk-toggleable__control sk-hidden--visually\" id=\"sk-estimator-id-6\" type=\"checkbox\" checked><label for=\"sk-estimator-id-6\" class=\"sk-toggleable__label sk-toggleable__label-arrow\">LinearRegression</label><div class=\"sk-toggleable__content\"><pre>LinearRegression()</pre></div></div></div></div></div>"
      ],
      "text/plain": [
       "LinearRegression()"
      ]
     },
     "execution_count": 90,
     "metadata": {},
     "output_type": "execute_result"
    }
   ],
   "source": [
    "#melakukan model training\n",
    "model_lin_reg.fit(X_train_final, y_train)"
   ]
  },
  {
   "cell_type": "code",
   "execution_count": 91,
   "metadata": {},
   "outputs": [
    {
     "name": "stdout",
     "output_type": "stream",
     "text": [
      "[[ 7.52612305]\n",
      " [11.34106445]\n",
      " [ 8.1472168 ]\n",
      " ...\n",
      " [ 7.52612305]\n",
      " [13.48217773]\n",
      " [ 9.44848633]]\n",
      "\n",
      "[[10.54321289]\n",
      " [ 7.3371582 ]\n",
      " [ 8.15063477]\n",
      " ...\n",
      " [84.37158203]\n",
      " [ 8.15771484]\n",
      " [11.32983398]]\n",
      "\n",
      "Jumlah baris y_train: 401796\n",
      "Jumlah baris y_test: 100486\n",
      "Jumlah baris y_train_pred: 401796\n",
      "Jumlah baris y_test_pred: 100486\n"
     ]
    }
   ],
   "source": [
    "#melaukan prediksi pada y train dan y test\n",
    "y_train_pred = model_lin_reg.predict(X_train_final)\n",
    "y_test_pred = model_lin_reg.predict(X_test_final)\n",
    "\n",
    "print(y_train_pred)\n",
    "\n",
    "print('')\n",
    "\n",
    "print(y_test_pred)\n",
    "\n",
    "print(\"\\nJumlah baris y_train:\", y_train.shape[0])\n",
    "print(\"Jumlah baris y_test:\", y_test.shape[0])\n",
    "print(\"Jumlah baris y_train_pred:\", len(y_train_pred))\n",
    "print(\"Jumlah baris y_test_pred:\", len(y_test_pred))"
   ]
  },
  {
   "cell_type": "markdown",
   "metadata": {},
   "source": [
    "# Model Evaluation"
   ]
  },
  {
   "cell_type": "code",
   "execution_count": 92,
   "metadata": {},
   "outputs": [
    {
     "name": "stdout",
     "output_type": "stream",
     "text": [
      "MAE Train: 11.29812737913701\n",
      "MAE Test: 10.967368846196548\n",
      "\n",
      "MSE Train: 48753.71744976684\n",
      "MSE Test: 4048.0688039401693\n",
      "\n",
      "RMSE Train: 220.80243986370903\n",
      "RMSE Test: 63.62443558838199\n",
      "\n",
      "R2 Train: 0.0008788526691486664\n",
      "R2 Test: 0.011234848953199483\n",
      "\n",
      "MAPE Train: 325.203503717146\n",
      "MAPE Test: 325.3528430121015\n",
      "\n",
      "mean :9.55224954743324\n"
     ]
    }
   ],
   "source": [
    "# MAE (Mean Absolute Error) Train and Test:\n",
    "mae_train = mean_absolute_error(y_train, y_train_pred)\n",
    "mae_test = mean_absolute_error(y_test, y_test_pred)\n",
    "print(f'MAE Train:', mae_train)\n",
    "print(f'MAE Test:', mae_test)\n",
    "\n",
    "# MSE (Mean Squared Error) Train and Test:\n",
    "mse_train = mean_squared_error(y_train, y_train_pred)\n",
    "mse_test = mean_squared_error(y_test, y_test_pred)\n",
    "print(f'\\nMSE Train:', mse_train)\n",
    "print(f'MSE Test:', mse_test)\n",
    "\n",
    "# RMSE (Root Mean Squared Error) Train and Test:\n",
    "\n",
    "rmse_train = np.sqrt(mse_train)\n",
    "rmse_test = np.sqrt(mse_test)\n",
    "print(f'\\nRMSE Train:', rmse_train)\n",
    "print(f'RMSE Test:', rmse_test)\n",
    "\n",
    "# R2 Score (Coefficient of Determination) Train and Test:\n",
    "\n",
    "r2_train = r2_score(y_train, y_train_pred)\n",
    "r2_test = r2_score(y_test, y_test_pred)\n",
    "print(f'\\nR2 Train:', r2_train)\n",
    "print(f'R2 Test:', r2_test)\n",
    "\n",
    "# MAPE (Mean Absolute Percentage Error) Train and Test:\n",
    "mape_train_rounded = mean_absolute_percentage_error(y_train, y_train_pred)* 100\n",
    "mape_test_rounded = mean_absolute_percentage_error(y_test, y_test_pred) * 100\n",
    "\n",
    "print('\\nMAPE Train:', mape_train_rounded)\n",
    "print('MAPE Test:', mape_test_rounded)\n",
    "print('')\n",
    "print(f'mean :{y.mean()}')"
   ]
  },
  {
   "cell_type": "markdown",
   "metadata": {},
   "source": [
    "# Kesimpulan"
   ]
  },
  {
   "cell_type": "markdown",
   "metadata": {},
   "source": [
    "MAE (Mean Absolute Error): MAE pada data pelatihan adalah sekitar 11.30 dan pada data pengujian adalah sekitar 10.97. Ini menunjukkan bahwa model memiliki kinerja serupa pada data pelatihan dan pengujian, dengan perbedaan yang relatif kecil antara kedua metrik ini.\n",
    "\n",
    "MSE (Mean Squared Error): MSE pada data pelatihan adalah sekitar 48753.72 dan pada data pengujian adalah sekitar 4048.07. Ini menunjukkan bahwa kesalahan model cenderung lebih besar pada data pelatihan dibandingkan dengan data pengujian.\n",
    "\n",
    "RMSE (Root Mean Squared Error): RMSE pada data pelatihan adalah sekitar 220.80 dan pada data pengujian adalah sekitar 63.62. Ini menunjukkan bahwa model memiliki kinerja yang lebih baik pada data pengujian dibandingkan dengan data pelatihan, dengan kesalahan yang lebih rendah pada data pengujian.\n",
    "\n",
    "R2 Score: R2 Score pada data pelatihan adalah sekitar 0.0009 dan pada data pengujian adalah sekitar 0.0112. Meskipun nilai-nilai ini positif, mereka sangat rendah, menunjukkan bahwa model tidak cocok dengan data dengan baik dan memiliki kinerja yang buruk dalam menjelaskan variasi dalam data.\n",
    "\n",
    "MAPE (Mean Absolute Percentage Error): MAPE pada data pelatihan adalah sekitar 325.20 dan pada data pengujian adalah sekitar 325.35. Ini menunjukkan bahwa model memiliki kesalahan relatif yang besar dalam memprediksi data, terutama ketika diukur sebagai persentase dari nilai aktual.\n",
    "\n",
    "Mean (Rata-rata): Nilai rata-rata target adalah sekitar 9.55. Ini memberikan konteks tentang skala nilai target yang digunakan dalam evaluasi model.\n",
    "\n",
    "Secara keseluruhan, hasil tes menunjukkan bahwa model yang digunakan belum sepenuhnya sesuai dengan data, dengan kinerja yang lebih baik pada data pengujian dibandingkan dengan data pelatihan, tetapi masih belum memadai dalam menjelaskan variasi dalam data. Diperlukan peninjauan lebih lanjut terhadap model dan fitur yang digunakan untuk perbaikan yang lebih baik."
   ]
  }
 ],
 "metadata": {
  "kernelspec": {
   "display_name": "Python 3",
   "language": "python",
   "name": "python3"
  },
  "language_info": {
   "codemirror_mode": {
    "name": "ipython",
    "version": 3
   },
   "file_extension": ".py",
   "mimetype": "text/x-python",
   "name": "python",
   "nbconvert_exporter": "python",
   "pygments_lexer": "ipython3",
   "version": "3.11.5"
  }
 },
 "nbformat": 4,
 "nbformat_minor": 2
}
